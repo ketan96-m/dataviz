{
 "cells": [
  {
   "cell_type": "code",
   "execution_count": 1,
   "id": "ff14d456",
   "metadata": {},
   "outputs": [],
   "source": [
    "import altair as alt\n",
    "import pandas as pd\n",
    "import matplotlib.pyplot as plt\n",
    "import ipywidgets\n",
    "import numpy as np"
   ]
  },
  {
   "cell_type": "code",
   "execution_count": 2,
   "id": "bfc25807",
   "metadata": {},
   "outputs": [],
   "source": [
    "data = pd.read_csv(\"https://raw.githubusercontent.com/UIUC-iSchool-DataViz/is445_bcubcg_fall2022/main/data/building_inventory.csv\")"
   ]
  },
  {
   "cell_type": "code",
   "execution_count": null,
   "id": "70c51688",
   "metadata": {},
   "outputs": [],
   "source": [
    "data"
   ]
  },
  {
   "cell_type": "markdown",
   "id": "c66fd188",
   "metadata": {},
   "source": [
    "<h3> Making plots using Altair </h3>"
   ]
  },
  {
   "cell_type": "code",
   "execution_count": null,
   "id": "8eef13cd",
   "metadata": {},
   "outputs": [],
   "source": [
    "brush = alt.selection_interval(encodings=['x','y'])"
   ]
  },
  {
   "cell_type": "code",
   "execution_count": null,
   "id": "817256cc",
   "metadata": {},
   "outputs": [],
   "source": [
    "chart1 = alt.Chart.from_dict({\n",
    "  \"data\":{\"url\":\"https://raw.githubusercontent.com/UIUC-iSchool-DataViz/is445_bcubcg_fall2022/main/data/building_inventory.csv\"},\n",
    "  \"mark\":\"bar\",\n",
    "  \"encoding\":{\n",
    "    \"x\":{\"field\":\"City\", \"type\":\"nominal\"},\n",
    "    \"y\":{\"aggregate\":\"sum\",\"field\":\"Square Footage\"},\n",
    "    \"color\" : alt.value(\"#FFAA10\")\n",
    "  }\n",
    "}).add_selection(\n",
    "    brush\n",
    ")\n"
   ]
  },
  {
   "cell_type": "code",
   "execution_count": null,
   "id": "54b48b3f",
   "metadata": {},
   "outputs": [],
   "source": [
    "chart2 = alt.Chart.from_dict({\n",
    "  \"data\":{\"url\":\"https://raw.githubusercontent.com/UIUC-iSchool-DataViz/is445_bcubcg_fall2022/main/data/building_inventory.csv\"},\n",
    "  \"mark\":\"rect\",\n",
    "  \"height\":400,\n",
    "  \"encoding\":{\n",
    "    \"x\":{\"bin\":{\"maxbins\":10}, \"field\":\"Square Footage\", \"type\":\"quantitative\"},\n",
    "    \"y\":{\"field\":\"Agency Name\", \"type\":\"ordinal\"}, \n",
    "    \"color\":{\"aggregate\":\"sum\", \"type\":\"quantitative\"} \n",
    "  } \n",
    "}).transform_filter(\n",
    "    brush\n",
    ")\n"
   ]
  },
  {
   "cell_type": "code",
   "execution_count": null,
   "id": "24411a15",
   "metadata": {},
   "outputs": [],
   "source": [
    "chart3 = alt.Chart.from_dict({\n",
    "  \"data\":{\"url\":\"https://raw.githubusercontent.com/UIUC-iSchool-DataViz/is445_bcubcg_fall2022/main/data/building_inventory.csv\"},\n",
    "  \"mark\":\"line\",\n",
    "  \"encoding\":{\n",
    "    \"x\":{\"field\":\"Year Constructed\", \"type\":\"nominal\"},\n",
    "    \"y\":{\"aggregate\":\"sum\",\"field\":\"Square Footage\"},\n",
    "    \"color\" : alt.value('#7fc97f')\n",
    "  }\n",
    "}).transform_filter(\n",
    "    brush\n",
    ")\n"
   ]
  },
  {
   "cell_type": "code",
   "execution_count": null,
   "id": "8184fa63",
   "metadata": {},
   "outputs": [],
   "source": [
    "chart = chart1 | chart2 | chart3"
   ]
  },
  {
   "cell_type": "code",
   "execution_count": null,
   "id": "be236cb9",
   "metadata": {},
   "outputs": [],
   "source": [
    "chart"
   ]
  },
  {
   "cell_type": "markdown",
   "id": "78494db4",
   "metadata": {},
   "source": [
    "<h3> Plotting using ipywidgets </h3>"
   ]
  },
  {
   "cell_type": "code",
   "execution_count": 5,
   "id": "e14aed9b",
   "metadata": {},
   "outputs": [
    {
     "data": {
      "application/vnd.jupyter.widget-view+json": {
       "model_id": "d8a6a1f77b2f44e282589abaa3738285",
       "version_major": 2,
       "version_minor": 0
      },
      "text/plain": [
       "interactive(children=(Dropdown(description='street_name', options=('Department of Natural Resources', 'Departm…"
      ]
     },
     "metadata": {},
     "output_type": "display_data"
    }
   ],
   "source": [
    "@ipywidgets.interact(street_name = data['Agency Name'].unique())\n",
    "def create_scatter_plot(street_name):\n",
    "    streets_selected = data.loc[data['Agency Name'] == street_name]\n",
    "    sorted_sq = streets_selected.sort_values(by=['Square Footage'], ascending = False )\n",
    "    \n",
    "#     fig, ax = plt.subplots(figsize=(10,10))\n",
    "    \n",
    "    streets_selected.plot( x = 'Year Acquired', y = 'Year Constructed', kind = 'scatter')\n",
    "    sorted_sq.head(20).plot( x = 'City', y = 'Square Footage', kind = 'bar')\n",
    "    sorted_sq.head(20).plot( x = 'Year Constructed', y = 'Square Footage', kind = 'bar')\n",
    "    \n",
    "    plt.show()"
   ]
  },
  {
   "cell_type": "code",
   "execution_count": null,
   "id": "e267b582",
   "metadata": {},
   "outputs": [],
   "source": []
  }
 ],
 "metadata": {
  "kernelspec": {
   "display_name": "Python 3 (ipykernel)",
   "language": "python",
   "name": "python3"
  },
  "language_info": {
   "codemirror_mode": {
    "name": "ipython",
    "version": 3
   },
   "file_extension": ".py",
   "mimetype": "text/x-python",
   "name": "python",
   "nbconvert_exporter": "python",
   "pygments_lexer": "ipython3",
   "version": "3.7.12"
  }
 },
 "nbformat": 4,
 "nbformat_minor": 5
}
